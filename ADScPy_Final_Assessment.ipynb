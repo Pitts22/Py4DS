{
 "cells": [
  {
   "cell_type": "markdown",
   "id": "9f9ae595-d05d-4bf3-a4ca-269e44608a0f",
   "metadata": {},
   "source": [
    "# Course-End Project: Sales Analysis"
   ]
  },
  {
   "cell_type": "code",
   "execution_count": 99,
   "id": "71fdcfb2-8464-4921-9763-be7008a7aa74",
   "metadata": {
    "tags": []
   },
   "outputs": [],
   "source": [
    "import pandas as pd\n",
    "import numpy as np"
   ]
  },
  {
   "cell_type": "markdown",
   "id": "110fa778-89b4-4772-a85e-b127edcc9d01",
   "metadata": {},
   "source": [
    "## 1. Data Wrangling"
   ]
  },
  {
   "cell_type": "markdown",
   "id": "5f8242fb-b666-492e-85af-b665ea0d85a3",
   "metadata": {},
   "source": [
    "> Reading the input csv</font>"
   ]
  },
  {
   "cell_type": "code",
   "execution_count": 100,
   "id": "1a643034-6ac2-4031-850b-4e8588546ea4",
   "metadata": {
    "tags": []
   },
   "outputs": [],
   "source": [
    "salesdf=pd.read_csv(\"AusApparalSales4thQrt2020.csv\")"
   ]
  },
  {
   "cell_type": "code",
   "execution_count": 101,
   "id": "cbbe328a-3594-4727-84d2-790e5f61e329",
   "metadata": {
    "tags": []
   },
   "outputs": [
    {
     "name": "stdout",
     "output_type": "stream",
     "text": [
      "<class 'pandas.core.frame.DataFrame'>\n",
      "RangeIndex: 7560 entries, 0 to 7559\n",
      "Data columns (total 6 columns):\n",
      " #   Column  Non-Null Count  Dtype \n",
      "---  ------  --------------  ----- \n",
      " 0   Date    7560 non-null   object\n",
      " 1   Time    7560 non-null   object\n",
      " 2   State   7560 non-null   object\n",
      " 3   Group   7560 non-null   object\n",
      " 4   Unit    7560 non-null   int64 \n",
      " 5   Sales   7560 non-null   int64 \n",
      "dtypes: int64(2), object(4)\n",
      "memory usage: 354.5+ KB\n"
     ]
    }
   ],
   "source": [
    "salesdf.info() # Checking for info "
   ]
  },
  {
   "cell_type": "code",
   "execution_count": 102,
   "id": "cf2363be-1d86-484f-9a9b-d1a6b890863e",
   "metadata": {
    "tags": []
   },
   "outputs": [
    {
     "data": {
      "text/html": [
       "<div>\n",
       "<style scoped>\n",
       "    .dataframe tbody tr th:only-of-type {\n",
       "        vertical-align: middle;\n",
       "    }\n",
       "\n",
       "    .dataframe tbody tr th {\n",
       "        vertical-align: top;\n",
       "    }\n",
       "\n",
       "    .dataframe thead th {\n",
       "        text-align: right;\n",
       "    }\n",
       "</style>\n",
       "<table border=\"1\" class=\"dataframe\">\n",
       "  <thead>\n",
       "    <tr style=\"text-align: right;\">\n",
       "      <th></th>\n",
       "      <th>Date</th>\n",
       "      <th>Time</th>\n",
       "      <th>State</th>\n",
       "      <th>Group</th>\n",
       "      <th>Unit</th>\n",
       "      <th>Sales</th>\n",
       "    </tr>\n",
       "  </thead>\n",
       "  <tbody>\n",
       "    <tr>\n",
       "      <th>count</th>\n",
       "      <td>7560</td>\n",
       "      <td>7560</td>\n",
       "      <td>7560</td>\n",
       "      <td>7560</td>\n",
       "      <td>7560.000000</td>\n",
       "      <td>7560.000000</td>\n",
       "    </tr>\n",
       "    <tr>\n",
       "      <th>unique</th>\n",
       "      <td>90</td>\n",
       "      <td>4</td>\n",
       "      <td>7</td>\n",
       "      <td>4</td>\n",
       "      <td>NaN</td>\n",
       "      <td>NaN</td>\n",
       "    </tr>\n",
       "    <tr>\n",
       "      <th>top</th>\n",
       "      <td>1-Oct-20</td>\n",
       "      <td>Afternoon</td>\n",
       "      <td>WA</td>\n",
       "      <td>Kids</td>\n",
       "      <td>NaN</td>\n",
       "      <td>NaN</td>\n",
       "    </tr>\n",
       "    <tr>\n",
       "      <th>freq</th>\n",
       "      <td>84</td>\n",
       "      <td>2520</td>\n",
       "      <td>1080</td>\n",
       "      <td>1890</td>\n",
       "      <td>NaN</td>\n",
       "      <td>NaN</td>\n",
       "    </tr>\n",
       "    <tr>\n",
       "      <th>mean</th>\n",
       "      <td>NaN</td>\n",
       "      <td>NaN</td>\n",
       "      <td>NaN</td>\n",
       "      <td>NaN</td>\n",
       "      <td>18.005423</td>\n",
       "      <td>45013.558201</td>\n",
       "    </tr>\n",
       "    <tr>\n",
       "      <th>std</th>\n",
       "      <td>NaN</td>\n",
       "      <td>NaN</td>\n",
       "      <td>NaN</td>\n",
       "      <td>NaN</td>\n",
       "      <td>12.901403</td>\n",
       "      <td>32253.506944</td>\n",
       "    </tr>\n",
       "    <tr>\n",
       "      <th>min</th>\n",
       "      <td>NaN</td>\n",
       "      <td>NaN</td>\n",
       "      <td>NaN</td>\n",
       "      <td>NaN</td>\n",
       "      <td>2.000000</td>\n",
       "      <td>5000.000000</td>\n",
       "    </tr>\n",
       "    <tr>\n",
       "      <th>25%</th>\n",
       "      <td>NaN</td>\n",
       "      <td>NaN</td>\n",
       "      <td>NaN</td>\n",
       "      <td>NaN</td>\n",
       "      <td>8.000000</td>\n",
       "      <td>20000.000000</td>\n",
       "    </tr>\n",
       "    <tr>\n",
       "      <th>50%</th>\n",
       "      <td>NaN</td>\n",
       "      <td>NaN</td>\n",
       "      <td>NaN</td>\n",
       "      <td>NaN</td>\n",
       "      <td>14.000000</td>\n",
       "      <td>35000.000000</td>\n",
       "    </tr>\n",
       "    <tr>\n",
       "      <th>75%</th>\n",
       "      <td>NaN</td>\n",
       "      <td>NaN</td>\n",
       "      <td>NaN</td>\n",
       "      <td>NaN</td>\n",
       "      <td>26.000000</td>\n",
       "      <td>65000.000000</td>\n",
       "    </tr>\n",
       "    <tr>\n",
       "      <th>max</th>\n",
       "      <td>NaN</td>\n",
       "      <td>NaN</td>\n",
       "      <td>NaN</td>\n",
       "      <td>NaN</td>\n",
       "      <td>65.000000</td>\n",
       "      <td>162500.000000</td>\n",
       "    </tr>\n",
       "  </tbody>\n",
       "</table>\n",
       "</div>"
      ],
      "text/plain": [
       "            Date        Time State  Group         Unit          Sales\n",
       "count       7560        7560  7560   7560  7560.000000    7560.000000\n",
       "unique        90           4     7      4          NaN            NaN\n",
       "top     1-Oct-20   Afternoon    WA   Kids          NaN            NaN\n",
       "freq          84        2520  1080   1890          NaN            NaN\n",
       "mean         NaN         NaN   NaN    NaN    18.005423   45013.558201\n",
       "std          NaN         NaN   NaN    NaN    12.901403   32253.506944\n",
       "min          NaN         NaN   NaN    NaN     2.000000    5000.000000\n",
       "25%          NaN         NaN   NaN    NaN     8.000000   20000.000000\n",
       "50%          NaN         NaN   NaN    NaN    14.000000   35000.000000\n",
       "75%          NaN         NaN   NaN    NaN    26.000000   65000.000000\n",
       "max          NaN         NaN   NaN    NaN    65.000000  162500.000000"
      ]
     },
     "execution_count": 102,
     "metadata": {},
     "output_type": "execute_result"
    }
   ],
   "source": [
    "salesdf.describe(include=\"all\") # checking descriptive statistics"
   ]
  },
  {
   "cell_type": "markdown",
   "id": "8a8607d3-f633-4db5-962d-9eba0a71437f",
   "metadata": {},
   "source": [
    "<font color ='red'>\n",
    "●\tEnsure that the data is clean and that there is no missing or incorrect data. \n",
    "○\tInspect the data manually for missing/incorrect data using the functions isna(), and notna().\n",
    "</font>"
   ]
  },
  {
   "cell_type": "code",
   "execution_count": 103,
   "id": "4a51f5cb-5dfb-47bc-9cb3-a1b94d931a56",
   "metadata": {
    "tags": []
   },
   "outputs": [
    {
     "data": {
      "text/html": [
       "<div>\n",
       "<style scoped>\n",
       "    .dataframe tbody tr th:only-of-type {\n",
       "        vertical-align: middle;\n",
       "    }\n",
       "\n",
       "    .dataframe tbody tr th {\n",
       "        vertical-align: top;\n",
       "    }\n",
       "\n",
       "    .dataframe thead th {\n",
       "        text-align: right;\n",
       "    }\n",
       "</style>\n",
       "<table border=\"1\" class=\"dataframe\">\n",
       "  <thead>\n",
       "    <tr style=\"text-align: right;\">\n",
       "      <th></th>\n",
       "      <th>Date</th>\n",
       "      <th>Time</th>\n",
       "      <th>State</th>\n",
       "      <th>Group</th>\n",
       "      <th>Unit</th>\n",
       "      <th>Sales</th>\n",
       "    </tr>\n",
       "  </thead>\n",
       "  <tbody>\n",
       "    <tr>\n",
       "      <th>0</th>\n",
       "      <td>False</td>\n",
       "      <td>False</td>\n",
       "      <td>False</td>\n",
       "      <td>False</td>\n",
       "      <td>False</td>\n",
       "      <td>False</td>\n",
       "    </tr>\n",
       "    <tr>\n",
       "      <th>1</th>\n",
       "      <td>False</td>\n",
       "      <td>False</td>\n",
       "      <td>False</td>\n",
       "      <td>False</td>\n",
       "      <td>False</td>\n",
       "      <td>False</td>\n",
       "    </tr>\n",
       "    <tr>\n",
       "      <th>2</th>\n",
       "      <td>False</td>\n",
       "      <td>False</td>\n",
       "      <td>False</td>\n",
       "      <td>False</td>\n",
       "      <td>False</td>\n",
       "      <td>False</td>\n",
       "    </tr>\n",
       "    <tr>\n",
       "      <th>3</th>\n",
       "      <td>False</td>\n",
       "      <td>False</td>\n",
       "      <td>False</td>\n",
       "      <td>False</td>\n",
       "      <td>False</td>\n",
       "      <td>False</td>\n",
       "    </tr>\n",
       "    <tr>\n",
       "      <th>4</th>\n",
       "      <td>False</td>\n",
       "      <td>False</td>\n",
       "      <td>False</td>\n",
       "      <td>False</td>\n",
       "      <td>False</td>\n",
       "      <td>False</td>\n",
       "    </tr>\n",
       "    <tr>\n",
       "      <th>...</th>\n",
       "      <td>...</td>\n",
       "      <td>...</td>\n",
       "      <td>...</td>\n",
       "      <td>...</td>\n",
       "      <td>...</td>\n",
       "      <td>...</td>\n",
       "    </tr>\n",
       "    <tr>\n",
       "      <th>7555</th>\n",
       "      <td>False</td>\n",
       "      <td>False</td>\n",
       "      <td>False</td>\n",
       "      <td>False</td>\n",
       "      <td>False</td>\n",
       "      <td>False</td>\n",
       "    </tr>\n",
       "    <tr>\n",
       "      <th>7556</th>\n",
       "      <td>False</td>\n",
       "      <td>False</td>\n",
       "      <td>False</td>\n",
       "      <td>False</td>\n",
       "      <td>False</td>\n",
       "      <td>False</td>\n",
       "    </tr>\n",
       "    <tr>\n",
       "      <th>7557</th>\n",
       "      <td>False</td>\n",
       "      <td>False</td>\n",
       "      <td>False</td>\n",
       "      <td>False</td>\n",
       "      <td>False</td>\n",
       "      <td>False</td>\n",
       "    </tr>\n",
       "    <tr>\n",
       "      <th>7558</th>\n",
       "      <td>False</td>\n",
       "      <td>False</td>\n",
       "      <td>False</td>\n",
       "      <td>False</td>\n",
       "      <td>False</td>\n",
       "      <td>False</td>\n",
       "    </tr>\n",
       "    <tr>\n",
       "      <th>7559</th>\n",
       "      <td>False</td>\n",
       "      <td>False</td>\n",
       "      <td>False</td>\n",
       "      <td>False</td>\n",
       "      <td>False</td>\n",
       "      <td>False</td>\n",
       "    </tr>\n",
       "  </tbody>\n",
       "</table>\n",
       "<p>7560 rows × 6 columns</p>\n",
       "</div>"
      ],
      "text/plain": [
       "       Date   Time  State  Group   Unit  Sales\n",
       "0     False  False  False  False  False  False\n",
       "1     False  False  False  False  False  False\n",
       "2     False  False  False  False  False  False\n",
       "3     False  False  False  False  False  False\n",
       "4     False  False  False  False  False  False\n",
       "...     ...    ...    ...    ...    ...    ...\n",
       "7555  False  False  False  False  False  False\n",
       "7556  False  False  False  False  False  False\n",
       "7557  False  False  False  False  False  False\n",
       "7558  False  False  False  False  False  False\n",
       "7559  False  False  False  False  False  False\n",
       "\n",
       "[7560 rows x 6 columns]"
      ]
     },
     "execution_count": 103,
     "metadata": {},
     "output_type": "execute_result"
    }
   ],
   "source": [
    "salesdf.isna() # Checking for non null values"
   ]
  },
  {
   "cell_type": "code",
   "execution_count": 104,
   "id": "9e493074-9153-4066-b371-38e15fe5d432",
   "metadata": {
    "tags": []
   },
   "outputs": [
    {
     "data": {
      "text/plain": [
       "Date     0\n",
       "Time     0\n",
       "State    0\n",
       "Group    0\n",
       "Unit     0\n",
       "Sales    0\n",
       "dtype: int64"
      ]
     },
     "execution_count": 104,
     "metadata": {},
     "output_type": "execute_result"
    }
   ],
   "source": [
    "salesdf.isna().sum() # checking for count of null values."
   ]
  },
  {
   "cell_type": "markdown",
   "id": "aae27086-7fc8-4a5b-a60e-693dabb99e83",
   "metadata": {
    "tags": []
   },
   "source": [
    "<font color ='red'>\n",
    "●\tBased on your knowledge of Data Analytics, include your recommendations for treating missing data and incorrect data. (dropping the null values or filling them).\n",
    "</font>"
   ]
  },
  {
   "cell_type": "markdown",
   "id": "02fc5549-4dac-49ae-8d61-d3b3842ffea2",
   "metadata": {},
   "source": [
    "> The above analysis confirms that there are no null values in the data but if we had null vales in any column, then we can use the fillna() function to fill na vales with either mean,mode or median"
   ]
  },
  {
   "cell_type": "markdown",
   "id": "c575f02c-4a24-4243-850e-d667173790e1",
   "metadata": {},
   "source": [
    "<font color =\"red\">\n",
    "●\tSelect an appropriate Data Wrangling approach —  data standardization or data normalization. Perform the standardization or normalization and present the data. (Normalization is the preferred approach for this problem.)\n",
    "</font>"
   ]
  },
  {
   "cell_type": "code",
   "execution_count": 105,
   "id": "5c7ccd91-8075-4858-ac7e-f73297ba677a",
   "metadata": {
    "tags": []
   },
   "outputs": [
    {
     "data": {
      "text/plain": [
       "Date     object\n",
       "Time     object\n",
       "State    object\n",
       "Group    object\n",
       "Unit      int64\n",
       "Sales     int64\n",
       "dtype: object"
      ]
     },
     "execution_count": 105,
     "metadata": {},
     "output_type": "execute_result"
    }
   ],
   "source": [
    "salesdf.dtypes"
   ]
  },
  {
   "cell_type": "code",
   "execution_count": 106,
   "id": "49a07806-cf11-4e0e-91dc-f3eafde7c293",
   "metadata": {},
   "outputs": [],
   "source": [
    "salesdf['Group']=salesdf['Group'].str.strip() # Stripping the additional spaces in the Group column\n",
    "salesdf['State']=salesdf['State'].str.strip() # Stripping the additional spaces in the State column\n",
    "salesdf['Time']=salesdf['Time'].str.strip() # Stripping the additional spaces in the Time column"
   ]
  },
  {
   "cell_type": "code",
   "execution_count": 107,
   "id": "004c332a-96f7-4003-9565-3fbb8ce79a20",
   "metadata": {
    "tags": []
   },
   "outputs": [
    {
     "data": {
      "text/plain": [
       "0       False\n",
       "1       False\n",
       "2       False\n",
       "3       False\n",
       "4       False\n",
       "        ...  \n",
       "7555    False\n",
       "7556    False\n",
       "7557    False\n",
       "7558    False\n",
       "7559    False\n",
       "Length: 7560, dtype: bool"
      ]
     },
     "execution_count": 107,
     "metadata": {},
     "output_type": "execute_result"
    }
   ],
   "source": [
    "#checking for duplicates\n",
    "salesdf.duplicated()"
   ]
  },
  {
   "cell_type": "markdown",
   "id": "f26308e8-d602-4fa9-aa82-d71cfbbf74b1",
   "metadata": {},
   "source": [
    ">  Data Wrangling approach ."
   ]
  },
  {
   "cell_type": "code",
   "execution_count": 108,
   "id": "e763baa1-d845-4a9d-8307-350d7c312ccc",
   "metadata": {
    "tags": []
   },
   "outputs": [
    {
     "data": {
      "text/plain": [
       "Date     object\n",
       "Time     object\n",
       "State    object\n",
       "Group    object\n",
       "Unit      int64\n",
       "Sales     int64\n",
       "dtype: object"
      ]
     },
     "execution_count": 108,
     "metadata": {},
     "output_type": "execute_result"
    }
   ],
   "source": [
    "salesdf.dtypes # checking data types . Next step will be cleaning by normalization"
   ]
  },
  {
   "cell_type": "markdown",
   "id": "892310bf-b700-4f50-8395-b8b7336914f3",
   "metadata": {},
   "source": [
    "> We need to convert the date objects to appropriate data type- date time in this instance"
   ]
  },
  {
   "cell_type": "code",
   "execution_count": 109,
   "id": "94bc75c6-cf54-4346-b16c-fa4e08815125",
   "metadata": {
    "tags": []
   },
   "outputs": [
    {
     "name": "stderr",
     "output_type": "stream",
     "text": [
      "/var/folders/_g/6xqs1lrj7kv9235d1ycjgk8w0000gn/T/ipykernel_1961/922895.py:1: UserWarning: Could not infer format, so each element will be parsed individually, falling back to `dateutil`. To ensure parsing is consistent and as-expected, please specify a format.\n",
      "  salesdf['Date']=pd.to_datetime(salesdf['Date'])\n"
     ]
    }
   ],
   "source": [
    "salesdf['Date']=pd.to_datetime(salesdf['Date'])"
   ]
  },
  {
   "cell_type": "code",
   "execution_count": 110,
   "id": "3114ca42-1f1a-4a29-b265-bcdee38e919c",
   "metadata": {
    "tags": []
   },
   "outputs": [
    {
     "data": {
      "text/html": [
       "<div>\n",
       "<style scoped>\n",
       "    .dataframe tbody tr th:only-of-type {\n",
       "        vertical-align: middle;\n",
       "    }\n",
       "\n",
       "    .dataframe tbody tr th {\n",
       "        vertical-align: top;\n",
       "    }\n",
       "\n",
       "    .dataframe thead th {\n",
       "        text-align: right;\n",
       "    }\n",
       "</style>\n",
       "<table border=\"1\" class=\"dataframe\">\n",
       "  <thead>\n",
       "    <tr style=\"text-align: right;\">\n",
       "      <th></th>\n",
       "      <th>Date</th>\n",
       "      <th>Time</th>\n",
       "      <th>State</th>\n",
       "      <th>Group</th>\n",
       "      <th>Unit</th>\n",
       "      <th>Sales</th>\n",
       "    </tr>\n",
       "  </thead>\n",
       "  <tbody>\n",
       "    <tr>\n",
       "      <th>0</th>\n",
       "      <td>2020-10-01</td>\n",
       "      <td>Morning</td>\n",
       "      <td>WA</td>\n",
       "      <td>Kids</td>\n",
       "      <td>8</td>\n",
       "      <td>20000</td>\n",
       "    </tr>\n",
       "    <tr>\n",
       "      <th>1</th>\n",
       "      <td>2020-10-01</td>\n",
       "      <td>Morning</td>\n",
       "      <td>WA</td>\n",
       "      <td>Men</td>\n",
       "      <td>8</td>\n",
       "      <td>20000</td>\n",
       "    </tr>\n",
       "    <tr>\n",
       "      <th>2</th>\n",
       "      <td>2020-10-01</td>\n",
       "      <td>Morning</td>\n",
       "      <td>WA</td>\n",
       "      <td>Women</td>\n",
       "      <td>4</td>\n",
       "      <td>10000</td>\n",
       "    </tr>\n",
       "    <tr>\n",
       "      <th>3</th>\n",
       "      <td>2020-10-01</td>\n",
       "      <td>Morning</td>\n",
       "      <td>WA</td>\n",
       "      <td>Seniors</td>\n",
       "      <td>15</td>\n",
       "      <td>37500</td>\n",
       "    </tr>\n",
       "    <tr>\n",
       "      <th>4</th>\n",
       "      <td>2020-10-01</td>\n",
       "      <td>Afternoon</td>\n",
       "      <td>WA</td>\n",
       "      <td>Kids</td>\n",
       "      <td>3</td>\n",
       "      <td>7500</td>\n",
       "    </tr>\n",
       "    <tr>\n",
       "      <th>...</th>\n",
       "      <td>...</td>\n",
       "      <td>...</td>\n",
       "      <td>...</td>\n",
       "      <td>...</td>\n",
       "      <td>...</td>\n",
       "      <td>...</td>\n",
       "    </tr>\n",
       "    <tr>\n",
       "      <th>7555</th>\n",
       "      <td>2020-12-30</td>\n",
       "      <td>Afternoon</td>\n",
       "      <td>TAS</td>\n",
       "      <td>Seniors</td>\n",
       "      <td>14</td>\n",
       "      <td>35000</td>\n",
       "    </tr>\n",
       "    <tr>\n",
       "      <th>7556</th>\n",
       "      <td>2020-12-30</td>\n",
       "      <td>Evening</td>\n",
       "      <td>TAS</td>\n",
       "      <td>Kids</td>\n",
       "      <td>15</td>\n",
       "      <td>37500</td>\n",
       "    </tr>\n",
       "    <tr>\n",
       "      <th>7557</th>\n",
       "      <td>2020-12-30</td>\n",
       "      <td>Evening</td>\n",
       "      <td>TAS</td>\n",
       "      <td>Men</td>\n",
       "      <td>15</td>\n",
       "      <td>37500</td>\n",
       "    </tr>\n",
       "    <tr>\n",
       "      <th>7558</th>\n",
       "      <td>2020-12-30</td>\n",
       "      <td>Evening</td>\n",
       "      <td>TAS</td>\n",
       "      <td>Women</td>\n",
       "      <td>11</td>\n",
       "      <td>27500</td>\n",
       "    </tr>\n",
       "    <tr>\n",
       "      <th>7559</th>\n",
       "      <td>2020-12-30</td>\n",
       "      <td>Evening</td>\n",
       "      <td>TAS</td>\n",
       "      <td>Seniors</td>\n",
       "      <td>13</td>\n",
       "      <td>32500</td>\n",
       "    </tr>\n",
       "  </tbody>\n",
       "</table>\n",
       "<p>7560 rows × 6 columns</p>\n",
       "</div>"
      ],
      "text/plain": [
       "           Date       Time State    Group  Unit  Sales\n",
       "0    2020-10-01    Morning    WA     Kids     8  20000\n",
       "1    2020-10-01    Morning    WA      Men     8  20000\n",
       "2    2020-10-01    Morning    WA    Women     4  10000\n",
       "3    2020-10-01    Morning    WA  Seniors    15  37500\n",
       "4    2020-10-01  Afternoon    WA     Kids     3   7500\n",
       "...         ...        ...   ...      ...   ...    ...\n",
       "7555 2020-12-30  Afternoon   TAS  Seniors    14  35000\n",
       "7556 2020-12-30    Evening   TAS     Kids    15  37500\n",
       "7557 2020-12-30    Evening   TAS      Men    15  37500\n",
       "7558 2020-12-30    Evening   TAS    Women    11  27500\n",
       "7559 2020-12-30    Evening   TAS  Seniors    13  32500\n",
       "\n",
       "[7560 rows x 6 columns]"
      ]
     },
     "execution_count": 110,
     "metadata": {},
     "output_type": "execute_result"
    }
   ],
   "source": [
    "salesdf"
   ]
  },
  {
   "cell_type": "code",
   "execution_count": 111,
   "id": "6c64366a-7ef9-48d8-9ba2-e742da4ef4f8",
   "metadata": {
    "tags": []
   },
   "outputs": [
    {
     "data": {
      "text/plain": [
       "Date     datetime64[ns]\n",
       "Time             object\n",
       "State            object\n",
       "Group            object\n",
       "Unit              int64\n",
       "Sales             int64\n",
       "dtype: object"
      ]
     },
     "execution_count": 111,
     "metadata": {},
     "output_type": "execute_result"
    }
   ],
   "source": [
    "salesdf.dtypes"
   ]
  },
  {
   "cell_type": "code",
   "execution_count": 112,
   "id": "d53250c9-7a27-4aeb-9885-7b4e1613b0c4",
   "metadata": {
    "tags": []
   },
   "outputs": [
    {
     "data": {
      "text/html": [
       "<div>\n",
       "<style scoped>\n",
       "    .dataframe tbody tr th:only-of-type {\n",
       "        vertical-align: middle;\n",
       "    }\n",
       "\n",
       "    .dataframe tbody tr th {\n",
       "        vertical-align: top;\n",
       "    }\n",
       "\n",
       "    .dataframe thead th {\n",
       "        text-align: right;\n",
       "    }\n",
       "</style>\n",
       "<table border=\"1\" class=\"dataframe\">\n",
       "  <thead>\n",
       "    <tr style=\"text-align: right;\">\n",
       "      <th></th>\n",
       "      <th>Date</th>\n",
       "      <th>Time</th>\n",
       "      <th>State</th>\n",
       "      <th>Group</th>\n",
       "      <th>Unit</th>\n",
       "      <th>Sales</th>\n",
       "      <th>normalized_Sales</th>\n",
       "    </tr>\n",
       "  </thead>\n",
       "  <tbody>\n",
       "    <tr>\n",
       "      <th>0</th>\n",
       "      <td>2020-10-01</td>\n",
       "      <td>Morning</td>\n",
       "      <td>WA</td>\n",
       "      <td>Kids</td>\n",
       "      <td>8</td>\n",
       "      <td>20000</td>\n",
       "      <td>0.095238</td>\n",
       "    </tr>\n",
       "    <tr>\n",
       "      <th>1</th>\n",
       "      <td>2020-10-01</td>\n",
       "      <td>Morning</td>\n",
       "      <td>WA</td>\n",
       "      <td>Men</td>\n",
       "      <td>8</td>\n",
       "      <td>20000</td>\n",
       "      <td>0.095238</td>\n",
       "    </tr>\n",
       "    <tr>\n",
       "      <th>2</th>\n",
       "      <td>2020-10-01</td>\n",
       "      <td>Morning</td>\n",
       "      <td>WA</td>\n",
       "      <td>Women</td>\n",
       "      <td>4</td>\n",
       "      <td>10000</td>\n",
       "      <td>0.031746</td>\n",
       "    </tr>\n",
       "    <tr>\n",
       "      <th>3</th>\n",
       "      <td>2020-10-01</td>\n",
       "      <td>Morning</td>\n",
       "      <td>WA</td>\n",
       "      <td>Seniors</td>\n",
       "      <td>15</td>\n",
       "      <td>37500</td>\n",
       "      <td>0.206349</td>\n",
       "    </tr>\n",
       "    <tr>\n",
       "      <th>4</th>\n",
       "      <td>2020-10-01</td>\n",
       "      <td>Afternoon</td>\n",
       "      <td>WA</td>\n",
       "      <td>Kids</td>\n",
       "      <td>3</td>\n",
       "      <td>7500</td>\n",
       "      <td>0.015873</td>\n",
       "    </tr>\n",
       "    <tr>\n",
       "      <th>...</th>\n",
       "      <td>...</td>\n",
       "      <td>...</td>\n",
       "      <td>...</td>\n",
       "      <td>...</td>\n",
       "      <td>...</td>\n",
       "      <td>...</td>\n",
       "      <td>...</td>\n",
       "    </tr>\n",
       "    <tr>\n",
       "      <th>7555</th>\n",
       "      <td>2020-12-30</td>\n",
       "      <td>Afternoon</td>\n",
       "      <td>TAS</td>\n",
       "      <td>Seniors</td>\n",
       "      <td>14</td>\n",
       "      <td>35000</td>\n",
       "      <td>0.190476</td>\n",
       "    </tr>\n",
       "    <tr>\n",
       "      <th>7556</th>\n",
       "      <td>2020-12-30</td>\n",
       "      <td>Evening</td>\n",
       "      <td>TAS</td>\n",
       "      <td>Kids</td>\n",
       "      <td>15</td>\n",
       "      <td>37500</td>\n",
       "      <td>0.206349</td>\n",
       "    </tr>\n",
       "    <tr>\n",
       "      <th>7557</th>\n",
       "      <td>2020-12-30</td>\n",
       "      <td>Evening</td>\n",
       "      <td>TAS</td>\n",
       "      <td>Men</td>\n",
       "      <td>15</td>\n",
       "      <td>37500</td>\n",
       "      <td>0.206349</td>\n",
       "    </tr>\n",
       "    <tr>\n",
       "      <th>7558</th>\n",
       "      <td>2020-12-30</td>\n",
       "      <td>Evening</td>\n",
       "      <td>TAS</td>\n",
       "      <td>Women</td>\n",
       "      <td>11</td>\n",
       "      <td>27500</td>\n",
       "      <td>0.142857</td>\n",
       "    </tr>\n",
       "    <tr>\n",
       "      <th>7559</th>\n",
       "      <td>2020-12-30</td>\n",
       "      <td>Evening</td>\n",
       "      <td>TAS</td>\n",
       "      <td>Seniors</td>\n",
       "      <td>13</td>\n",
       "      <td>32500</td>\n",
       "      <td>0.174603</td>\n",
       "    </tr>\n",
       "  </tbody>\n",
       "</table>\n",
       "<p>7560 rows × 7 columns</p>\n",
       "</div>"
      ],
      "text/plain": [
       "           Date       Time State    Group  Unit  Sales  normalized_Sales\n",
       "0    2020-10-01    Morning    WA     Kids     8  20000          0.095238\n",
       "1    2020-10-01    Morning    WA      Men     8  20000          0.095238\n",
       "2    2020-10-01    Morning    WA    Women     4  10000          0.031746\n",
       "3    2020-10-01    Morning    WA  Seniors    15  37500          0.206349\n",
       "4    2020-10-01  Afternoon    WA     Kids     3   7500          0.015873\n",
       "...         ...        ...   ...      ...   ...    ...               ...\n",
       "7555 2020-12-30  Afternoon   TAS  Seniors    14  35000          0.190476\n",
       "7556 2020-12-30    Evening   TAS     Kids    15  37500          0.206349\n",
       "7557 2020-12-30    Evening   TAS      Men    15  37500          0.206349\n",
       "7558 2020-12-30    Evening   TAS    Women    11  27500          0.142857\n",
       "7559 2020-12-30    Evening   TAS  Seniors    13  32500          0.174603\n",
       "\n",
       "[7560 rows x 7 columns]"
      ]
     },
     "execution_count": 112,
     "metadata": {},
     "output_type": "execute_result"
    }
   ],
   "source": [
    "#Data Standardization using Mix Max normalization\n",
    "salesdf[\"normalized_Sales\"]=(salesdf[\"Sales\"]-salesdf['Sales'].min())/(salesdf[\"Sales\"].max()-salesdf['Sales'].min())\n",
    "salesdf"
   ]
  },
  {
   "cell_type": "markdown",
   "id": "bcf49755-5b4e-4c76-b5a5-7eb865634d4a",
   "metadata": {
    "tags": []
   },
   "source": [
    "<font color =\"red\">\n",
    "●\tShare your recommendation on the usage of the groupby() function for data chunking or merging.\n",
    "</font>"
   ]
  },
  {
   "cell_type": "markdown",
   "id": "4f95bfa8-5479-4eb6-a2b7-5ff996d63a89",
   "metadata": {
    "tags": []
   },
   "source": [
    "We need to assess the data for each state and find out the sales average , sum and maximum values hence we will apply the group by function on the data frame and group the data by each state . we can use the agg() to apply mukltiple aggregations on the desired column "
   ]
  },
  {
   "cell_type": "markdown",
   "id": "ad2895de-7cdd-4786-979e-00e48177630a",
   "metadata": {},
   "source": [
    "## 2. Data Analysis"
   ]
  },
  {
   "cell_type": "markdown",
   "id": "aeabcc07-3cd2-4752-81b2-fd9f726a03bb",
   "metadata": {},
   "source": [
    "<font color=\"red\">\n",
    "●\tPerform descriptive statistical analysis on the data (Sales and Unit columns) (Techniques such as mean, median, mode and standard deviation can be used.)."
   ]
  },
  {
   "cell_type": "code",
   "execution_count": 113,
   "id": "01fde7c7-2755-4646-8474-0df7feb7993e",
   "metadata": {
    "tags": []
   },
   "outputs": [
    {
     "data": {
      "text/html": [
       "<div>\n",
       "<style scoped>\n",
       "    .dataframe tbody tr th:only-of-type {\n",
       "        vertical-align: middle;\n",
       "    }\n",
       "\n",
       "    .dataframe tbody tr th {\n",
       "        vertical-align: top;\n",
       "    }\n",
       "\n",
       "    .dataframe thead th {\n",
       "        text-align: right;\n",
       "    }\n",
       "</style>\n",
       "<table border=\"1\" class=\"dataframe\">\n",
       "  <thead>\n",
       "    <tr style=\"text-align: right;\">\n",
       "      <th></th>\n",
       "      <th>State</th>\n",
       "      <th>mean</th>\n",
       "      <th>count</th>\n",
       "      <th>min</th>\n",
       "      <th>max</th>\n",
       "      <th>var</th>\n",
       "      <th>median</th>\n",
       "      <th>sum</th>\n",
       "    </tr>\n",
       "  </thead>\n",
       "  <tbody>\n",
       "    <tr>\n",
       "      <th>0</th>\n",
       "      <td>NSW</td>\n",
       "      <td>69416.666667</td>\n",
       "      <td>1080</td>\n",
       "      <td>30000</td>\n",
       "      <td>112500</td>\n",
       "      <td>4.254588e+08</td>\n",
       "      <td>70000.0</td>\n",
       "      <td>74970000</td>\n",
       "    </tr>\n",
       "    <tr>\n",
       "      <th>1</th>\n",
       "      <td>NT</td>\n",
       "      <td>20907.407407</td>\n",
       "      <td>1080</td>\n",
       "      <td>5000</td>\n",
       "      <td>37500</td>\n",
       "      <td>8.031579e+07</td>\n",
       "      <td>20000.0</td>\n",
       "      <td>22580000</td>\n",
       "    </tr>\n",
       "    <tr>\n",
       "      <th>2</th>\n",
       "      <td>QLD</td>\n",
       "      <td>30942.129630</td>\n",
       "      <td>1080</td>\n",
       "      <td>7500</td>\n",
       "      <td>62500</td>\n",
       "      <td>1.780794e+08</td>\n",
       "      <td>30000.0</td>\n",
       "      <td>33417500</td>\n",
       "    </tr>\n",
       "    <tr>\n",
       "      <th>3</th>\n",
       "      <td>SA</td>\n",
       "      <td>54497.685185</td>\n",
       "      <td>1080</td>\n",
       "      <td>25000</td>\n",
       "      <td>87500</td>\n",
       "      <td>3.048853e+08</td>\n",
       "      <td>52500.0</td>\n",
       "      <td>58857500</td>\n",
       "    </tr>\n",
       "    <tr>\n",
       "      <th>4</th>\n",
       "      <td>TAS</td>\n",
       "      <td>21074.074074</td>\n",
       "      <td>1080</td>\n",
       "      <td>5000</td>\n",
       "      <td>37500</td>\n",
       "      <td>8.144492e+07</td>\n",
       "      <td>20000.0</td>\n",
       "      <td>22760000</td>\n",
       "    </tr>\n",
       "    <tr>\n",
       "      <th>5</th>\n",
       "      <td>VIC</td>\n",
       "      <td>97745.370370</td>\n",
       "      <td>1080</td>\n",
       "      <td>50000</td>\n",
       "      <td>162500</td>\n",
       "      <td>7.087094e+08</td>\n",
       "      <td>95000.0</td>\n",
       "      <td>105565000</td>\n",
       "    </tr>\n",
       "    <tr>\n",
       "      <th>6</th>\n",
       "      <td>WA</td>\n",
       "      <td>20511.574074</td>\n",
       "      <td>1080</td>\n",
       "      <td>5000</td>\n",
       "      <td>37500</td>\n",
       "      <td>8.522809e+07</td>\n",
       "      <td>20000.0</td>\n",
       "      <td>22152500</td>\n",
       "    </tr>\n",
       "  </tbody>\n",
       "</table>\n",
       "</div>"
      ],
      "text/plain": [
       "  State          mean  count    min     max           var   median        sum\n",
       "0   NSW  69416.666667   1080  30000  112500  4.254588e+08  70000.0   74970000\n",
       "1    NT  20907.407407   1080   5000   37500  8.031579e+07  20000.0   22580000\n",
       "2   QLD  30942.129630   1080   7500   62500  1.780794e+08  30000.0   33417500\n",
       "3    SA  54497.685185   1080  25000   87500  3.048853e+08  52500.0   58857500\n",
       "4   TAS  21074.074074   1080   5000   37500  8.144492e+07  20000.0   22760000\n",
       "5   VIC  97745.370370   1080  50000  162500  7.087094e+08  95000.0  105565000\n",
       "6    WA  20511.574074   1080   5000   37500  8.522809e+07  20000.0   22152500"
      ]
     },
     "execution_count": 113,
     "metadata": {},
     "output_type": "execute_result"
    }
   ],
   "source": [
    "salesdf_sagg=salesdf.groupby(['State'])['Sales'].agg(['mean','count','min','max','var','median','sum'])\n",
    "salesdf_sagg.reset_index(inplace=True, drop=False)\n",
    "salesdf_sagg"
   ]
  },
  {
   "cell_type": "code",
   "execution_count": 114,
   "id": "42968191-b6ff-4d64-8a4f-b88f5a0474cc",
   "metadata": {
    "tags": []
   },
   "outputs": [
    {
     "data": {
      "text/html": [
       "<div>\n",
       "<style scoped>\n",
       "    .dataframe tbody tr th:only-of-type {\n",
       "        vertical-align: middle;\n",
       "    }\n",
       "\n",
       "    .dataframe tbody tr th {\n",
       "        vertical-align: top;\n",
       "    }\n",
       "\n",
       "    .dataframe thead th {\n",
       "        text-align: right;\n",
       "    }\n",
       "</style>\n",
       "<table border=\"1\" class=\"dataframe\">\n",
       "  <thead>\n",
       "    <tr style=\"text-align: right;\">\n",
       "      <th></th>\n",
       "      <th>State</th>\n",
       "      <th>mean</th>\n",
       "      <th>count</th>\n",
       "      <th>min</th>\n",
       "      <th>max</th>\n",
       "      <th>var</th>\n",
       "      <th>median</th>\n",
       "    </tr>\n",
       "  </thead>\n",
       "  <tbody>\n",
       "    <tr>\n",
       "      <th>5</th>\n",
       "      <td>VIC</td>\n",
       "      <td>39.098148</td>\n",
       "      <td>1080</td>\n",
       "      <td>20</td>\n",
       "      <td>65</td>\n",
       "      <td>113.393509</td>\n",
       "      <td>38.0</td>\n",
       "    </tr>\n",
       "    <tr>\n",
       "      <th>0</th>\n",
       "      <td>NSW</td>\n",
       "      <td>27.766667</td>\n",
       "      <td>1080</td>\n",
       "      <td>12</td>\n",
       "      <td>45</td>\n",
       "      <td>68.073401</td>\n",
       "      <td>28.0</td>\n",
       "    </tr>\n",
       "    <tr>\n",
       "      <th>3</th>\n",
       "      <td>SA</td>\n",
       "      <td>21.799074</td>\n",
       "      <td>1080</td>\n",
       "      <td>10</td>\n",
       "      <td>35</td>\n",
       "      <td>48.781649</td>\n",
       "      <td>21.0</td>\n",
       "    </tr>\n",
       "    <tr>\n",
       "      <th>2</th>\n",
       "      <td>QLD</td>\n",
       "      <td>12.376852</td>\n",
       "      <td>1080</td>\n",
       "      <td>3</td>\n",
       "      <td>25</td>\n",
       "      <td>28.492698</td>\n",
       "      <td>12.0</td>\n",
       "    </tr>\n",
       "    <tr>\n",
       "      <th>4</th>\n",
       "      <td>TAS</td>\n",
       "      <td>8.429630</td>\n",
       "      <td>1080</td>\n",
       "      <td>2</td>\n",
       "      <td>15</td>\n",
       "      <td>13.031188</td>\n",
       "      <td>8.0</td>\n",
       "    </tr>\n",
       "    <tr>\n",
       "      <th>1</th>\n",
       "      <td>NT</td>\n",
       "      <td>8.362963</td>\n",
       "      <td>1080</td>\n",
       "      <td>2</td>\n",
       "      <td>15</td>\n",
       "      <td>12.850527</td>\n",
       "      <td>8.0</td>\n",
       "    </tr>\n",
       "    <tr>\n",
       "      <th>6</th>\n",
       "      <td>WA</td>\n",
       "      <td>8.204630</td>\n",
       "      <td>1080</td>\n",
       "      <td>2</td>\n",
       "      <td>15</td>\n",
       "      <td>13.636494</td>\n",
       "      <td>8.0</td>\n",
       "    </tr>\n",
       "  </tbody>\n",
       "</table>\n",
       "</div>"
      ],
      "text/plain": [
       "  State       mean  count  min  max         var  median\n",
       "5   VIC  39.098148   1080   20   65  113.393509    38.0\n",
       "0   NSW  27.766667   1080   12   45   68.073401    28.0\n",
       "3    SA  21.799074   1080   10   35   48.781649    21.0\n",
       "2   QLD  12.376852   1080    3   25   28.492698    12.0\n",
       "4   TAS   8.429630   1080    2   15   13.031188     8.0\n",
       "1    NT   8.362963   1080    2   15   12.850527     8.0\n",
       "6    WA   8.204630   1080    2   15   13.636494     8.0"
      ]
     },
     "execution_count": 114,
     "metadata": {},
     "output_type": "execute_result"
    }
   ],
   "source": [
    "salesdf_uagg=salesdf.groupby(['State'])['Unit'].agg(['mean','count','min','max','var','median'])\n",
    "salesdf_uagg.reset_index(inplace=True, drop=False)\n",
    "salesdf_uagg.sort_values(by ='mean', ascending =False, inplace=True)\n",
    "salesdf_uagg"
   ]
  },
  {
   "cell_type": "markdown",
   "id": "10cebaf3-d8a5-4c36-a58d-dbb4fec56ab9",
   "metadata": {
    "tags": []
   },
   "source": [
    "<font color =\"red\">●\tDetermine which state is generating the highest sales, and which state is generating the lowest sales."
   ]
  },
  {
   "cell_type": "code",
   "execution_count": 115,
   "id": "f25348e4-bc0a-41d8-9058-0dc19001ca20",
   "metadata": {
    "tags": []
   },
   "outputs": [],
   "source": [
    "import seaborn  as sns\n",
    "import matplotlib.pyplot as plt"
   ]
  },
  {
   "cell_type": "code",
   "execution_count": 116,
   "id": "6283fb1c-0940-456a-a440-34c651a48e97",
   "metadata": {
    "tags": []
   },
   "outputs": [
    {
     "data": {
      "image/png": "[encoded data removed]",
      "text/plain": [
       "<Figure size 640x480 with 1 Axes>"
      ]
     },
     "metadata": {},
     "output_type": "display_data"
    }
   ],
   "source": [
    "sns.barplot(data=salesdf_sagg,x=\"State\",y=\"mean\")\n",
    "plt.show()"
   ]
  },
  {
   "cell_type": "markdown",
   "id": "a0d8392d-2337-404a-9d2c-53b26c72aee0",
   "metadata": {},
   "source": [
    "> From the above graph its clear that \n",
    "VIC has the highest sales\n",
    "WA has the lowest sales \n"
   ]
  },
  {
   "cell_type": "markdown",
   "id": "7d087d61-f693-43f2-9b8c-c093e2b9a5df",
   "metadata": {
    "tags": []
   },
   "source": [
    "<font color=\"red\">\n",
    "●\tDetermine which group is generating the highest sales, and which group is generating the lowest sales."
   ]
  },
  {
   "cell_type": "code",
   "execution_count": 117,
   "id": "6e74e6cc-ea74-4184-bc11-d24b7b41433a",
   "metadata": {
    "tags": []
   },
   "outputs": [
    {
     "data": {
      "text/html": [
       "<div>\n",
       "<style scoped>\n",
       "    .dataframe tbody tr th:only-of-type {\n",
       "        vertical-align: middle;\n",
       "    }\n",
       "\n",
       "    .dataframe tbody tr th {\n",
       "        vertical-align: top;\n",
       "    }\n",
       "\n",
       "    .dataframe thead th {\n",
       "        text-align: right;\n",
       "    }\n",
       "</style>\n",
       "<table border=\"1\" class=\"dataframe\">\n",
       "  <thead>\n",
       "    <tr style=\"text-align: right;\">\n",
       "      <th></th>\n",
       "      <th>Group</th>\n",
       "      <th>mean</th>\n",
       "      <th>count</th>\n",
       "      <th>min</th>\n",
       "      <th>max</th>\n",
       "      <th>var</th>\n",
       "      <th>median</th>\n",
       "      <th>sum</th>\n",
       "    </tr>\n",
       "  </thead>\n",
       "  <tbody>\n",
       "    <tr>\n",
       "      <th>1</th>\n",
       "      <td>Men</td>\n",
       "      <td>45370.370370</td>\n",
       "      <td>1890</td>\n",
       "      <td>5000</td>\n",
       "      <td>160000</td>\n",
       "      <td>1.035371e+09</td>\n",
       "      <td>35000.0</td>\n",
       "      <td>85750000</td>\n",
       "    </tr>\n",
       "    <tr>\n",
       "      <th>3</th>\n",
       "      <td>Women</td>\n",
       "      <td>45207.671958</td>\n",
       "      <td>1890</td>\n",
       "      <td>5000</td>\n",
       "      <td>162500</td>\n",
       "      <td>1.074636e+09</td>\n",
       "      <td>35000.0</td>\n",
       "      <td>85442500</td>\n",
       "    </tr>\n",
       "    <tr>\n",
       "      <th>0</th>\n",
       "      <td>Kids</td>\n",
       "      <td>45011.904762</td>\n",
       "      <td>1890</td>\n",
       "      <td>5000</td>\n",
       "      <td>162500</td>\n",
       "      <td>1.015792e+09</td>\n",
       "      <td>35000.0</td>\n",
       "      <td>85072500</td>\n",
       "    </tr>\n",
       "    <tr>\n",
       "      <th>2</th>\n",
       "      <td>Seniors</td>\n",
       "      <td>44464.285714</td>\n",
       "      <td>1890</td>\n",
       "      <td>5000</td>\n",
       "      <td>162500</td>\n",
       "      <td>1.036541e+09</td>\n",
       "      <td>35000.0</td>\n",
       "      <td>84037500</td>\n",
       "    </tr>\n",
       "  </tbody>\n",
       "</table>\n",
       "</div>"
      ],
      "text/plain": [
       "     Group          mean  count   min     max           var   median       sum\n",
       "1      Men  45370.370370   1890  5000  160000  1.035371e+09  35000.0  85750000\n",
       "3    Women  45207.671958   1890  5000  162500  1.074636e+09  35000.0  85442500\n",
       "0     Kids  45011.904762   1890  5000  162500  1.015792e+09  35000.0  85072500\n",
       "2  Seniors  44464.285714   1890  5000  162500  1.036541e+09  35000.0  84037500"
      ]
     },
     "execution_count": 117,
     "metadata": {},
     "output_type": "execute_result"
    }
   ],
   "source": [
    "salesdf_gagg=salesdf.groupby(['Group'])['Sales'].agg(['mean','count','min','max','var','median','sum'])\n",
    "salesdf_gagg.reset_index(inplace=True, drop=False)\n",
    "salesdf_gagg.sort_values('mean' ,ascending = False)"
   ]
  },
  {
   "cell_type": "code",
   "execution_count": 118,
   "id": "12debbe4-50c8-4ba4-9006-a371f39ad774",
   "metadata": {
    "tags": []
   },
   "outputs": [
    {
     "data": {
      "image/png": "[encoded data removed]",
      "text/plain": [
       "<Figure size 640x480 with 1 Axes>"
      ]
     },
     "metadata": {},
     "output_type": "display_data"
    }
   ],
   "source": [
    "sns.barplot(data=salesdf_gagg,x=\"Group\",y=\"mean\")\n",
    "plt.show()"
   ]
  },
  {
   "cell_type": "markdown",
   "id": "dc97017d-d8a6-4900-b510-51b7ecd557b5",
   "metadata": {},
   "source": [
    "> Highest Sales made by Men Group & \n",
    "Lowest Sales made by Seniors group "
   ]
  },
  {
   "cell_type": "markdown",
   "id": "3ef3b6d0-db8f-4526-8eca-df6326ab6ec6",
   "metadata": {
    "tags": []
   },
   "source": [
    "<font color=\"red\">\n",
    "●\tGenerate weekly, monthly and quarterly reports for the analysis made."
   ]
  },
  {
   "cell_type": "code",
   "execution_count": 119,
   "id": "9ef29bb3-2c24-44a8-aab7-82033a229797",
   "metadata": {},
   "outputs": [
    {
     "data": {
      "text/html": [
       "<div>\n",
       "<style scoped>\n",
       "    .dataframe tbody tr th:only-of-type {\n",
       "        vertical-align: middle;\n",
       "    }\n",
       "\n",
       "    .dataframe tbody tr th {\n",
       "        vertical-align: top;\n",
       "    }\n",
       "\n",
       "    .dataframe thead th {\n",
       "        text-align: right;\n",
       "    }\n",
       "</style>\n",
       "<table border=\"1\" class=\"dataframe\">\n",
       "  <thead>\n",
       "    <tr style=\"text-align: right;\">\n",
       "      <th></th>\n",
       "      <th>State</th>\n",
       "      <th>Date</th>\n",
       "      <th>Unit</th>\n",
       "      <th>Sales</th>\n",
       "      <th>normalized_Sales</th>\n",
       "    </tr>\n",
       "  </thead>\n",
       "  <tbody>\n",
       "    <tr>\n",
       "      <th>0</th>\n",
       "      <td>NSW</td>\n",
       "      <td>2020-10-04</td>\n",
       "      <td>28.187500</td>\n",
       "      <td>70468.750000</td>\n",
       "      <td>0.415675</td>\n",
       "    </tr>\n",
       "    <tr>\n",
       "      <th>1</th>\n",
       "      <td>NSW</td>\n",
       "      <td>2020-10-11</td>\n",
       "      <td>28.059524</td>\n",
       "      <td>70148.809524</td>\n",
       "      <td>0.413643</td>\n",
       "    </tr>\n",
       "    <tr>\n",
       "      <th>2</th>\n",
       "      <td>NSW</td>\n",
       "      <td>2020-10-18</td>\n",
       "      <td>27.226190</td>\n",
       "      <td>68065.476190</td>\n",
       "      <td>0.400416</td>\n",
       "    </tr>\n",
       "    <tr>\n",
       "      <th>3</th>\n",
       "      <td>NSW</td>\n",
       "      <td>2020-10-25</td>\n",
       "      <td>28.202381</td>\n",
       "      <td>70505.952381</td>\n",
       "      <td>0.415911</td>\n",
       "    </tr>\n",
       "    <tr>\n",
       "      <th>4</th>\n",
       "      <td>NSW</td>\n",
       "      <td>2020-11-01</td>\n",
       "      <td>26.791667</td>\n",
       "      <td>66979.166667</td>\n",
       "      <td>0.393519</td>\n",
       "    </tr>\n",
       "    <tr>\n",
       "      <th>...</th>\n",
       "      <td>...</td>\n",
       "      <td>...</td>\n",
       "      <td>...</td>\n",
       "      <td>...</td>\n",
       "      <td>...</td>\n",
       "    </tr>\n",
       "    <tr>\n",
       "      <th>93</th>\n",
       "      <td>WA</td>\n",
       "      <td>2020-12-06</td>\n",
       "      <td>9.809524</td>\n",
       "      <td>24523.809524</td>\n",
       "      <td>0.123961</td>\n",
       "    </tr>\n",
       "    <tr>\n",
       "      <th>94</th>\n",
       "      <td>WA</td>\n",
       "      <td>2020-12-13</td>\n",
       "      <td>10.214286</td>\n",
       "      <td>25535.714286</td>\n",
       "      <td>0.130385</td>\n",
       "    </tr>\n",
       "    <tr>\n",
       "      <th>95</th>\n",
       "      <td>WA</td>\n",
       "      <td>2020-12-20</td>\n",
       "      <td>9.547619</td>\n",
       "      <td>23869.047619</td>\n",
       "      <td>0.119803</td>\n",
       "    </tr>\n",
       "    <tr>\n",
       "      <th>96</th>\n",
       "      <td>WA</td>\n",
       "      <td>2020-12-27</td>\n",
       "      <td>9.964286</td>\n",
       "      <td>24910.714286</td>\n",
       "      <td>0.126417</td>\n",
       "    </tr>\n",
       "    <tr>\n",
       "      <th>97</th>\n",
       "      <td>WA</td>\n",
       "      <td>2021-01-03</td>\n",
       "      <td>10.277778</td>\n",
       "      <td>25694.444444</td>\n",
       "      <td>0.131393</td>\n",
       "    </tr>\n",
       "  </tbody>\n",
       "</table>\n",
       "<p>98 rows × 5 columns</p>\n",
       "</div>"
      ],
      "text/plain": [
       "   State       Date       Unit         Sales  normalized_Sales\n",
       "0    NSW 2020-10-04  28.187500  70468.750000          0.415675\n",
       "1    NSW 2020-10-11  28.059524  70148.809524          0.413643\n",
       "2    NSW 2020-10-18  27.226190  68065.476190          0.400416\n",
       "3    NSW 2020-10-25  28.202381  70505.952381          0.415911\n",
       "4    NSW 2020-11-01  26.791667  66979.166667          0.393519\n",
       "..   ...        ...        ...           ...               ...\n",
       "93    WA 2020-12-06   9.809524  24523.809524          0.123961\n",
       "94    WA 2020-12-13  10.214286  25535.714286          0.130385\n",
       "95    WA 2020-12-20   9.547619  23869.047619          0.119803\n",
       "96    WA 2020-12-27   9.964286  24910.714286          0.126417\n",
       "97    WA 2021-01-03  10.277778  25694.444444          0.131393\n",
       "\n",
       "[98 rows x 5 columns]"
      ]
     },
     "execution_count": 119,
     "metadata": {},
     "output_type": "execute_result"
    }
   ],
   "source": [
    "weekly_data=salesdf.groupby(\"State\").resample('W', closed = 'right', on='Date').mean(['Sales','normalized_Sales'])\n",
    "weekly_data.reset_index(inplace=True,drop=False)\n",
    "weekly_data"
   ]
  },
  {
   "cell_type": "code",
   "execution_count": 120,
   "id": "fe4ae23d-8ce6-49b1-bea8-58b4b9074265",
   "metadata": {
    "tags": []
   },
   "outputs": [
    {
     "data": {
      "text/html": [
       "<div>\n",
       "<style scoped>\n",
       "    .dataframe tbody tr th:only-of-type {\n",
       "        vertical-align: middle;\n",
       "    }\n",
       "\n",
       "    .dataframe tbody tr th {\n",
       "        vertical-align: top;\n",
       "    }\n",
       "\n",
       "    .dataframe thead th {\n",
       "        text-align: right;\n",
       "    }\n",
       "</style>\n",
       "<table border=\"1\" class=\"dataframe\">\n",
       "  <thead>\n",
       "    <tr style=\"text-align: right;\">\n",
       "      <th></th>\n",
       "      <th>State</th>\n",
       "      <th>Date</th>\n",
       "      <th>Unit</th>\n",
       "      <th>Sales</th>\n",
       "      <th>normalized_Sales</th>\n",
       "    </tr>\n",
       "  </thead>\n",
       "  <tbody>\n",
       "    <tr>\n",
       "      <th>0</th>\n",
       "      <td>NSW</td>\n",
       "      <td>2020-10-31</td>\n",
       "      <td>27.786111</td>\n",
       "      <td>69465.277778</td>\n",
       "      <td>0.409303</td>\n",
       "    </tr>\n",
       "    <tr>\n",
       "      <th>1</th>\n",
       "      <td>NSW</td>\n",
       "      <td>2020-11-30</td>\n",
       "      <td>23.877778</td>\n",
       "      <td>59694.444444</td>\n",
       "      <td>0.347266</td>\n",
       "    </tr>\n",
       "    <tr>\n",
       "      <th>2</th>\n",
       "      <td>NSW</td>\n",
       "      <td>2020-12-31</td>\n",
       "      <td>31.636111</td>\n",
       "      <td>79090.277778</td>\n",
       "      <td>0.470414</td>\n",
       "    </tr>\n",
       "    <tr>\n",
       "      <th>3</th>\n",
       "      <td>NT</td>\n",
       "      <td>2020-10-31</td>\n",
       "      <td>9.136111</td>\n",
       "      <td>22840.277778</td>\n",
       "      <td>0.113272</td>\n",
       "    </tr>\n",
       "    <tr>\n",
       "      <th>4</th>\n",
       "      <td>NT</td>\n",
       "      <td>2020-11-30</td>\n",
       "      <td>5.841667</td>\n",
       "      <td>14604.166667</td>\n",
       "      <td>0.060979</td>\n",
       "    </tr>\n",
       "    <tr>\n",
       "      <th>5</th>\n",
       "      <td>NT</td>\n",
       "      <td>2020-12-31</td>\n",
       "      <td>10.111111</td>\n",
       "      <td>25277.777778</td>\n",
       "      <td>0.128748</td>\n",
       "    </tr>\n",
       "    <tr>\n",
       "      <th>6</th>\n",
       "      <td>QLD</td>\n",
       "      <td>2020-10-31</td>\n",
       "      <td>12.355556</td>\n",
       "      <td>30888.888889</td>\n",
       "      <td>0.164374</td>\n",
       "    </tr>\n",
       "    <tr>\n",
       "      <th>7</th>\n",
       "      <td>QLD</td>\n",
       "      <td>2020-11-30</td>\n",
       "      <td>9.011111</td>\n",
       "      <td>22527.777778</td>\n",
       "      <td>0.111287</td>\n",
       "    </tr>\n",
       "    <tr>\n",
       "      <th>8</th>\n",
       "      <td>QLD</td>\n",
       "      <td>2020-12-31</td>\n",
       "      <td>15.763889</td>\n",
       "      <td>39409.722222</td>\n",
       "      <td>0.218474</td>\n",
       "    </tr>\n",
       "    <tr>\n",
       "      <th>9</th>\n",
       "      <td>SA</td>\n",
       "      <td>2020-10-31</td>\n",
       "      <td>22.900000</td>\n",
       "      <td>57250.000000</td>\n",
       "      <td>0.331746</td>\n",
       "    </tr>\n",
       "    <tr>\n",
       "      <th>10</th>\n",
       "      <td>SA</td>\n",
       "      <td>2020-11-30</td>\n",
       "      <td>17.258333</td>\n",
       "      <td>43145.833333</td>\n",
       "      <td>0.242196</td>\n",
       "    </tr>\n",
       "    <tr>\n",
       "      <th>11</th>\n",
       "      <td>SA</td>\n",
       "      <td>2020-12-31</td>\n",
       "      <td>25.238889</td>\n",
       "      <td>63097.222222</td>\n",
       "      <td>0.368871</td>\n",
       "    </tr>\n",
       "    <tr>\n",
       "      <th>12</th>\n",
       "      <td>TAS</td>\n",
       "      <td>2020-10-31</td>\n",
       "      <td>8.905556</td>\n",
       "      <td>22263.888889</td>\n",
       "      <td>0.109612</td>\n",
       "    </tr>\n",
       "    <tr>\n",
       "      <th>13</th>\n",
       "      <td>TAS</td>\n",
       "      <td>2020-11-30</td>\n",
       "      <td>6.161111</td>\n",
       "      <td>15402.777778</td>\n",
       "      <td>0.066049</td>\n",
       "    </tr>\n",
       "    <tr>\n",
       "      <th>14</th>\n",
       "      <td>TAS</td>\n",
       "      <td>2020-12-31</td>\n",
       "      <td>10.222222</td>\n",
       "      <td>25555.555556</td>\n",
       "      <td>0.130511</td>\n",
       "    </tr>\n",
       "    <tr>\n",
       "      <th>15</th>\n",
       "      <td>VIC</td>\n",
       "      <td>2020-10-31</td>\n",
       "      <td>37.158333</td>\n",
       "      <td>92895.833333</td>\n",
       "      <td>0.558069</td>\n",
       "    </tr>\n",
       "    <tr>\n",
       "      <th>16</th>\n",
       "      <td>VIC</td>\n",
       "      <td>2020-11-30</td>\n",
       "      <td>32.811111</td>\n",
       "      <td>82027.777778</td>\n",
       "      <td>0.489065</td>\n",
       "    </tr>\n",
       "    <tr>\n",
       "      <th>17</th>\n",
       "      <td>VIC</td>\n",
       "      <td>2020-12-31</td>\n",
       "      <td>47.325000</td>\n",
       "      <td>118312.500000</td>\n",
       "      <td>0.719444</td>\n",
       "    </tr>\n",
       "    <tr>\n",
       "      <th>18</th>\n",
       "      <td>WA</td>\n",
       "      <td>2020-10-31</td>\n",
       "      <td>8.747222</td>\n",
       "      <td>21868.055556</td>\n",
       "      <td>0.107099</td>\n",
       "    </tr>\n",
       "    <tr>\n",
       "      <th>19</th>\n",
       "      <td>WA</td>\n",
       "      <td>2020-11-30</td>\n",
       "      <td>5.797222</td>\n",
       "      <td>14493.055556</td>\n",
       "      <td>0.060273</td>\n",
       "    </tr>\n",
       "    <tr>\n",
       "      <th>20</th>\n",
       "      <td>WA</td>\n",
       "      <td>2020-12-31</td>\n",
       "      <td>10.069444</td>\n",
       "      <td>25173.611111</td>\n",
       "      <td>0.128086</td>\n",
       "    </tr>\n",
       "  </tbody>\n",
       "</table>\n",
       "</div>"
      ],
      "text/plain": [
       "   State       Date       Unit          Sales  normalized_Sales\n",
       "0    NSW 2020-10-31  27.786111   69465.277778          0.409303\n",
       "1    NSW 2020-11-30  23.877778   59694.444444          0.347266\n",
       "2    NSW 2020-12-31  31.636111   79090.277778          0.470414\n",
       "3     NT 2020-10-31   9.136111   22840.277778          0.113272\n",
       "4     NT 2020-11-30   5.841667   14604.166667          0.060979\n",
       "5     NT 2020-12-31  10.111111   25277.777778          0.128748\n",
       "6    QLD 2020-10-31  12.355556   30888.888889          0.164374\n",
       "7    QLD 2020-11-30   9.011111   22527.777778          0.111287\n",
       "8    QLD 2020-12-31  15.763889   39409.722222          0.218474\n",
       "9     SA 2020-10-31  22.900000   57250.000000          0.331746\n",
       "10    SA 2020-11-30  17.258333   43145.833333          0.242196\n",
       "11    SA 2020-12-31  25.238889   63097.222222          0.368871\n",
       "12   TAS 2020-10-31   8.905556   22263.888889          0.109612\n",
       "13   TAS 2020-11-30   6.161111   15402.777778          0.066049\n",
       "14   TAS 2020-12-31  10.222222   25555.555556          0.130511\n",
       "15   VIC 2020-10-31  37.158333   92895.833333          0.558069\n",
       "16   VIC 2020-11-30  32.811111   82027.777778          0.489065\n",
       "17   VIC 2020-12-31  47.325000  118312.500000          0.719444\n",
       "18    WA 2020-10-31   8.747222   21868.055556          0.107099\n",
       "19    WA 2020-11-30   5.797222   14493.055556          0.060273\n",
       "20    WA 2020-12-31  10.069444   25173.611111          0.128086"
      ]
     },
     "execution_count": 120,
     "metadata": {},
     "output_type": "execute_result"
    }
   ],
   "source": [
    "monthly_data=salesdf.groupby(\"State\").resample('M', closed = 'right', on='Date').mean(['Sales','normalized_Sales'])\n",
    "monthly_data.reset_index(inplace=True,drop=False)\n",
    "monthly_data"
   ]
  },
  {
   "cell_type": "code",
   "execution_count": 121,
   "id": "f57f7583-4420-4a77-9802-d5f22864eb09",
   "metadata": {
    "tags": []
   },
   "outputs": [
    {
     "data": {
      "text/html": [
       "<div>\n",
       "<style scoped>\n",
       "    .dataframe tbody tr th:only-of-type {\n",
       "        vertical-align: middle;\n",
       "    }\n",
       "\n",
       "    .dataframe tbody tr th {\n",
       "        vertical-align: top;\n",
       "    }\n",
       "\n",
       "    .dataframe thead th {\n",
       "        text-align: right;\n",
       "    }\n",
       "</style>\n",
       "<table border=\"1\" class=\"dataframe\">\n",
       "  <thead>\n",
       "    <tr style=\"text-align: right;\">\n",
       "      <th></th>\n",
       "      <th>State</th>\n",
       "      <th>Date</th>\n",
       "      <th>Unit</th>\n",
       "      <th>Sales</th>\n",
       "      <th>normalized_Sales</th>\n",
       "    </tr>\n",
       "  </thead>\n",
       "  <tbody>\n",
       "    <tr>\n",
       "      <th>0</th>\n",
       "      <td>NSW</td>\n",
       "      <td>2020-12-31</td>\n",
       "      <td>27.766667</td>\n",
       "      <td>69416.666667</td>\n",
       "      <td>0.408995</td>\n",
       "    </tr>\n",
       "    <tr>\n",
       "      <th>1</th>\n",
       "      <td>NT</td>\n",
       "      <td>2020-12-31</td>\n",
       "      <td>8.362963</td>\n",
       "      <td>20907.407407</td>\n",
       "      <td>0.100999</td>\n",
       "    </tr>\n",
       "    <tr>\n",
       "      <th>2</th>\n",
       "      <td>QLD</td>\n",
       "      <td>2020-12-31</td>\n",
       "      <td>12.376852</td>\n",
       "      <td>30942.129630</td>\n",
       "      <td>0.164712</td>\n",
       "    </tr>\n",
       "    <tr>\n",
       "      <th>3</th>\n",
       "      <td>SA</td>\n",
       "      <td>2020-12-31</td>\n",
       "      <td>21.799074</td>\n",
       "      <td>54497.685185</td>\n",
       "      <td>0.314271</td>\n",
       "    </tr>\n",
       "    <tr>\n",
       "      <th>4</th>\n",
       "      <td>TAS</td>\n",
       "      <td>2020-12-31</td>\n",
       "      <td>8.429630</td>\n",
       "      <td>21074.074074</td>\n",
       "      <td>0.102058</td>\n",
       "    </tr>\n",
       "    <tr>\n",
       "      <th>5</th>\n",
       "      <td>VIC</td>\n",
       "      <td>2020-12-31</td>\n",
       "      <td>39.098148</td>\n",
       "      <td>97745.370370</td>\n",
       "      <td>0.588859</td>\n",
       "    </tr>\n",
       "    <tr>\n",
       "      <th>6</th>\n",
       "      <td>WA</td>\n",
       "      <td>2020-12-31</td>\n",
       "      <td>8.204630</td>\n",
       "      <td>20511.574074</td>\n",
       "      <td>0.098486</td>\n",
       "    </tr>\n",
       "  </tbody>\n",
       "</table>\n",
       "</div>"
      ],
      "text/plain": [
       "  State       Date       Unit         Sales  normalized_Sales\n",
       "0   NSW 2020-12-31  27.766667  69416.666667          0.408995\n",
       "1    NT 2020-12-31   8.362963  20907.407407          0.100999\n",
       "2   QLD 2020-12-31  12.376852  30942.129630          0.164712\n",
       "3    SA 2020-12-31  21.799074  54497.685185          0.314271\n",
       "4   TAS 2020-12-31   8.429630  21074.074074          0.102058\n",
       "5   VIC 2020-12-31  39.098148  97745.370370          0.588859\n",
       "6    WA 2020-12-31   8.204630  20511.574074          0.098486"
      ]
     },
     "execution_count": 121,
     "metadata": {},
     "output_type": "execute_result"
    }
   ],
   "source": [
    "quarterly_data=salesdf.groupby(\"State\").resample('Q', closed = 'right', on='Date').mean(['Sales','normalized_Sales'])\n",
    "quarterly_data.reset_index(inplace=True,drop=False)\n",
    "quarterly_data"
   ]
  },
  {
   "cell_type": "markdown",
   "id": "bda1c3d5-2f71-40ec-bfc6-6b845f6a2107",
   "metadata": {},
   "source": [
    "## 3. Data Visualization"
   ]
  },
  {
   "cell_type": "markdown",
   "id": "b03c6285-3b4d-4cc5-805e-b37db0d40299",
   "metadata": {},
   "source": [
    "●\tUse appropriate data visualization libraries to build a dashboard for the Head of S&M that includes for the key parameters like \n",
    "- State-wise sales analysis for different groups (kids, women, men, and seniors) \n",
    "- Group-wise sales analysis (kids, women, men, and seniors) across different states.\n",
    "- Time-of-the-day analysis: during which time of the day are sales the highest, and during which time are sales the lowest? [This helps S&M teams design programs for increasing sales such as hyper-personalization and Next Best Offers].\n",
    "The dashboard must contain daily, weekly, monthly and quarterly charts.\n",
    " (Any visualization library can be used for this purpose. However, since statistical analysis is being done, Seaborn is preferred.)\n"
   ]
  },
  {
   "cell_type": "code",
   "execution_count": 122,
   "id": "9c67efae-c9d3-40ea-b478-a3e3a58f36a8",
   "metadata": {
    "tags": []
   },
   "outputs": [
    {
     "data": {
      "text/html": [
       "<div>\n",
       "<style scoped>\n",
       "    .dataframe tbody tr th:only-of-type {\n",
       "        vertical-align: middle;\n",
       "    }\n",
       "\n",
       "    .dataframe tbody tr th {\n",
       "        vertical-align: top;\n",
       "    }\n",
       "\n",
       "    .dataframe thead th {\n",
       "        text-align: right;\n",
       "    }\n",
       "</style>\n",
       "<table border=\"1\" class=\"dataframe\">\n",
       "  <thead>\n",
       "    <tr style=\"text-align: right;\">\n",
       "      <th></th>\n",
       "      <th>Time</th>\n",
       "      <th>mean</th>\n",
       "      <th>count</th>\n",
       "      <th>min</th>\n",
       "      <th>max</th>\n",
       "      <th>median</th>\n",
       "      <th>sum</th>\n",
       "    </tr>\n",
       "  </thead>\n",
       "  <tbody>\n",
       "    <tr>\n",
       "      <th>2</th>\n",
       "      <td>Morning</td>\n",
       "      <td>45320.436508</td>\n",
       "      <td>2520</td>\n",
       "      <td>5000</td>\n",
       "      <td>162500</td>\n",
       "      <td>35000.0</td>\n",
       "      <td>114207500</td>\n",
       "    </tr>\n",
       "    <tr>\n",
       "      <th>0</th>\n",
       "      <td>Afternoon</td>\n",
       "      <td>45241.071429</td>\n",
       "      <td>2520</td>\n",
       "      <td>5000</td>\n",
       "      <td>162500</td>\n",
       "      <td>35000.0</td>\n",
       "      <td>114007500</td>\n",
       "    </tr>\n",
       "    <tr>\n",
       "      <th>1</th>\n",
       "      <td>Evening</td>\n",
       "      <td>44479.166667</td>\n",
       "      <td>2520</td>\n",
       "      <td>5000</td>\n",
       "      <td>162500</td>\n",
       "      <td>35000.0</td>\n",
       "      <td>112087500</td>\n",
       "    </tr>\n",
       "  </tbody>\n",
       "</table>\n",
       "</div>"
      ],
      "text/plain": [
       "        Time          mean  count   min     max   median        sum\n",
       "2    Morning  45320.436508   2520  5000  162500  35000.0  114207500\n",
       "0  Afternoon  45241.071429   2520  5000  162500  35000.0  114007500\n",
       "1    Evening  44479.166667   2520  5000  162500  35000.0  112087500"
      ]
     },
     "execution_count": 122,
     "metadata": {},
     "output_type": "execute_result"
    }
   ],
   "source": [
    "salesdf_tagg=salesdf.groupby(['Time'])['Sales'].agg(['mean','count','min','max','median','sum'])\n",
    "salesdf_tagg.reset_index(inplace=True, drop=False)\n",
    "salesdf_tagg.sort_values('mean' ,ascending = False)"
   ]
  },
  {
   "cell_type": "code",
   "execution_count": 125,
   "id": "f15babbe-d813-46b9-9f84-855bb9451663",
   "metadata": {
    "tags": []
   },
   "outputs": [
    {
     "data": {
      "image/png": "[encoded data removed]",
      "text/plain": [
       "<Figure size 640x480 with 1 Axes>"
      ]
     },
     "metadata": {},
     "output_type": "display_data"
    },
    {
     "data": {
      "image/png": "[encoded data removed]",
      "text/plain": [
       "<Figure size 640x480 with 1 Axes>"
      ]
     },
     "metadata": {},
     "output_type": "display_data"
    },
    {
     "name": "stderr",
     "output_type": "stream",
     "text": [
      "No artists with labels found to put in legend.  Note that artists whose label start with an underscore are ignored when legend() is called with no argument.\n"
     ]
    },
    {
     "data": {
      "image/png": "[encoded data removed]",
      "text/plain": [
       "<Figure size 640x480 with 1 Axes>"
      ]
     },
     "metadata": {},
     "output_type": "display_data"
    }
   ],
   "source": [
    "import seaborn as sns\n",
    "import matplotlib.pyplot as plt\n",
    "sns.barplot(data=salesdf,x='State',y='normalized_Sales',hue=\"Group\")\n",
    "plt.suptitle(\"Group-wise sales analysis for different States \")\n",
    "plt.legend(bbox_to_anchor=(1.02, 1), loc='upper left', borderaxespad=0)\n",
    "plt.show()\n",
    "\n",
    "sns.barplot(data=salesdf,x='Group',y='normalized_Sales',hue=\"State\")\n",
    "plt.suptitle(\"State-wise sales analysis for different Groups \")\n",
    "plt.legend(bbox_to_anchor=(1.02, 1), loc='upper left', borderaxespad=0)\n",
    "plt.show()\n",
    "\n",
    "sns.lineplot(data=salesdf_tagg,x='Time',y='sum')\n",
    "plt.suptitle(\"Time analysis for Sales \")\n",
    "plt.legend(bbox_to_anchor=(1.02, 1), loc='upper left', borderaxespad=0)\n",
    "plt.show()\n",
    "\n"
   ]
  },
  {
   "cell_type": "code",
   "execution_count": 124,
   "id": "c0fa9735-a4e8-47cd-b188-dee91c0b74c9",
   "metadata": {
    "tags": []
   },
   "outputs": [
    {
     "data": {
      "image/png": "[encoded data removed]",
      "text/plain": [
       "<Figure size 640x480 with 1 Axes>"
      ]
     },
     "metadata": {},
     "output_type": "display_data"
    },
    {
     "data": {
      "image/png": "[encoded data removed]",
      "text/plain": [
       "<Figure size 640x480 with 1 Axes>"
      ]
     },
     "metadata": {},
     "output_type": "display_data"
    },
    {
     "data": {
      "image/png": "[encoded data removed]",
      "text/plain": [
       "<Figure size 640x480 with 1 Axes>"
      ]
     },
     "metadata": {},
     "output_type": "display_data"
    }
   ],
   "source": [
    "\n",
    "h=sns.barplot(data=quarterly_data,x='State',y='normalized_Sales',hue=\"State\")\n",
    "plt.xticks(rotation=45)\n",
    "plt.suptitle(\"Quarterly Sales Report \")\n",
    "plt.legend(bbox_to_anchor=(1.02, 1), loc='upper left', borderaxespad=0)\n",
    "plt.show()\n",
    "\n",
    "\n",
    "g=sns.lineplot(data=monthly_data,x='Date',y='Sales',hue=\"State\")\n",
    "plt.xticks(rotation=45)\n",
    "plt.suptitle(\"Monthly Sales Report \")\n",
    "plt.legend(bbox_to_anchor=(1.02, 1), loc='upper left', borderaxespad=0)\n",
    "plt.show()\n",
    "\n",
    "h=sns.lineplot(data=weekly_data,x='Date',y='Sales',hue=\"State\")\n",
    "plt.xticks(rotation=45)\n",
    "plt.suptitle(\"Weekly Sales Report \")\n",
    "plt.legend(bbox_to_anchor=(1.02, 1), loc='upper left', borderaxespad=0)\n",
    "plt.show()"
   ]
  },
  {
   "cell_type": "code",
   "execution_count": null,
   "id": "08fddc1a-5283-4b5b-89ce-e82f8e9b0744",
   "metadata": {},
   "outputs": [],
   "source": []
  }
 ],
 "metadata": {
  "kernelspec": {
   "display_name": "Python 3 (ipykernel)",
   "language": "python",
   "name": "python3"
  },
  "language_info": {
   "codemirror_mode": {
    "name": "ipython",
    "version": 3
   },
   "file_extension": ".py",
   "mimetype": "text/x-python",
   "name": "python",
   "nbconvert_exporter": "python",
   "pygments_lexer": "ipython3",
   "version": "3.11.5"
  }
 },
 "nbformat": 4,
 "nbformat_minor": 5
}
